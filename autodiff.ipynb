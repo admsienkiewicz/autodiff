{
 "cells": [
  {
   "cell_type": "code",
   "execution_count": 38,
   "metadata": {},
   "outputs": [],
   "source": [
    "# Deklaracja liczb dualnych\n",
    "struct Dual{T <:Number} <:Number\n",
    "    v::T\n",
    "    dv::T\n",
    "end"
   ]
  },
  {
   "cell_type": "code",
   "execution_count": 39,
   "metadata": {},
   "outputs": [
    {
     "name": "stdout",
     "output_type": "stream",
     "text": [
      "    \u001b[36m\u001b[1mFetching:\u001b[22m\u001b[39m [========================================>]  100.0 %3.3 %\r"
     ]
    }
   ],
   "source": [
    "import Pkg\n",
    "Pkg.add(\"BenchmarkTools\")\n",
    "abstract type Node end\n",
    "abstract type Operator end\n",
    "abstract type LeafNode <: Node end\n",
    "using BenchmarkTools"
   ]
  },
  {
   "cell_type": "code",
   "execution_count": 40,
   "metadata": {},
   "outputs": [],
   "source": [
    "# Przeciazenie operatorow\n",
    "import Base: +, -, *, /\n",
    "-(x::Dual) = Dual(-x.v, -x.dv)\n",
    "+(x::Dual, y::Dual) = Dual( x.v + y.v, x.dv + y.dv)\n",
    "-(x::Dual, y::Dual) = Dual( x.v - y.v, x.dv - y.dv)\n",
    "*(x::Dual, y::Dual) = Dual( x.v * y.v, x.dv * y.v + x.v * y.dv)\n",
    "/(x::Dual, y::Dual) = Dual( x.v / y.v,(x.dv * y.v - x.v * y.dv)/y.v^2)\n",
    "# Przeciazenie funkcji\n",
    "import Base: abs, sin, cos, tan, exp, sqrt\n",
    "abs(x::Dual) = Dual(abs(x.v), sign(x.v)*x.dv)\n",
    "sin(x::Dual) = Dual(sin(x.v), cos(x.v)*x.dv)\n",
    "cos(x::Dual) = Dual(cos(x.v), -sin(x.v)*x.dv)\n",
    "tan(x::Dual) = Dual(tan(x.v), one(x.v)*x.dv + tan(x.v)^2*x.dv)\n",
    "exp(x::Dual) = Dual(exp(x.v), exp(x.v)*x.dv)\n",
    "sqrt(x::Dual) = Dual(sqrt(x.v), .5/sqrt(x.v) * x.dv)\n",
    "isless(x::Dual, y::Dual) = x.v < y.v;"
   ]
  },
  {
   "cell_type": "code",
   "execution_count": 41,
   "metadata": {},
   "outputs": [],
   "source": [
    "# Wyświetlanie liczb dualnych '(v) + [dv epsilon]'\n",
    "import Base: show\n",
    "show(io::IO, x::Dual) = print(io, \"(\", x.v, \") + [\", x.dv, \"ε]\");\n",
    "\n",
    "value(x::Dual) = x.v;\n",
    "partials(x::Dual) = x.dv;"
   ]
  },
  {
   "cell_type": "code",
   "execution_count": 42,
   "metadata": {},
   "outputs": [
    {
     "data": {
      "text/plain": [
       "promote_rule (generic function with 126 methods)"
      ]
     },
     "execution_count": 42,
     "metadata": {},
     "output_type": "execute_result"
    }
   ],
   "source": [
    "\n",
    "import Base: convert, promote_rule\n",
    "convert(::Type{Dual{T}}, x::Dual) where T = Dual(convert(T, x.v), convert(T, x.dv))\n",
    "convert(::Type{Dual{T}}, x::Number) where T = Dual(convert(T, x), zero(T))\n",
    "promote_rule(::Type{Dual{T}}, ::Type{R}) where {T,R} =  Dual{promote_type(T,R)}"
   ]
  },
  {
   "cell_type": "code",
   "execution_count": 43,
   "metadata": {},
   "outputs": [
    {
     "data": {
      "text/plain": [
       "(0) + [1ε]"
      ]
     },
     "execution_count": 43,
     "metadata": {},
     "output_type": "execute_result"
    }
   ],
   "source": [
    "ϵ = Dual(0, 1)"
   ]
  },
  {
   "cell_type": "code",
   "execution_count": 44,
   "metadata": {},
   "outputs": [
    {
     "data": {
      "text/plain": [
       "f (generic function with 2 methods)"
      ]
     },
     "execution_count": 44,
     "metadata": {},
     "output_type": "execute_result"
    }
   ],
   "source": [
    "f(x) = sin(x*x)"
   ]
  },
  {
   "cell_type": "code",
   "execution_count": 45,
   "metadata": {},
   "outputs": [
    {
     "data": {
      "text/plain": [
       "(0.8414709848078965) + [1.0806046117362795ε]"
      ]
     },
     "execution_count": 45,
     "metadata": {},
     "output_type": "execute_result"
    }
   ],
   "source": [
    "f(Dual(1,1))"
   ]
  },
  {
   "cell_type": "code",
   "execution_count": 46,
   "metadata": {},
   "outputs": [
    {
     "data": {
      "text/plain": [
       "ReLU (generic function with 1 method)"
      ]
     },
     "execution_count": 46,
     "metadata": {},
     "output_type": "execute_result"
    }
   ],
   "source": [
    "ReLU(x) = max(zero(x), x)"
   ]
  },
  {
   "cell_type": "code",
   "execution_count": 47,
   "metadata": {},
   "outputs": [
    {
     "data": {
      "text/plain": [
       "jacobian_forward (generic function with 1 method)"
      ]
     },
     "execution_count": 47,
     "metadata": {},
     "output_type": "execute_result"
    }
   ],
   "source": [
    "J_forward = function jacobian_forward(f, args::Vector{T}) where {T <:Number}\n",
    "    jacobian_columns = Matrix{T}[]\n",
    "    \n",
    "    for i=1:length(args)\n",
    "        x = Dual{T}[]\n",
    "        for j=1:length(args)\n",
    "            seed = (i == j)\n",
    "            push!(x, seed ?\n",
    "                Dual(args[j], one(args[j])) :\n",
    "                Dual(args[j],zero(args[j])) )\n",
    "        end\n",
    "        column = partials.([f(x)...])\n",
    "        push!(jacobian_columns, column[:,:])\n",
    "    end\n",
    "    hcat(jacobian_columns...)\n",
    "end"
   ]
  },
  {
   "cell_type": "code",
   "execution_count": 146,
   "metadata": {},
   "outputs": [
    {
     "data": {
      "text/plain": [
       "f (generic function with 2 methods)"
      ]
     },
     "execution_count": 146,
     "metadata": {},
     "output_type": "execute_result"
    }
   ],
   "source": [
    "f(x::Vector) = [sin(x[1]*x[2])]"
   ]
  },
  {
   "cell_type": "code",
   "execution_count": 148,
   "metadata": {},
   "outputs": [
    {
     "data": {
      "text/plain": [
       "1×2 Matrix{Float64}:\n",
       " 1.63233  2.04041"
      ]
     },
     "execution_count": 148,
     "metadata": {},
     "output_type": "execute_result"
    }
   ],
   "source": [
    "J_forward(f, [5.0,4.0])"
   ]
  },
  {
   "cell_type": "markdown",
   "metadata": {},
   "source": [
    "## backwards  https://web.archive.org/web/20200615205643/http://blog.rogerluo.me/2018/10/23/write-an-ad-in-one-day/"
   ]
  },
  {
   "cell_type": "code",
   "execution_count": 50,
   "metadata": {},
   "outputs": [],
   "source": [
    "abstract type Node end\n",
    "abstract type Operator end\n",
    "abstract type LeafNode <: Node end"
   ]
  },
  {
   "cell_type": "code",
   "execution_count": 51,
   "metadata": {},
   "outputs": [],
   "source": [
    "mutable struct Variable{T} <: LeafNode\n",
    "    value::T\n",
    "    grad::T\n",
    "    Variable(val::T) where T          = new{T}(val, zero(val))\n",
    "    Variable(val::T, grad::T) where T = new{T}(val, grad)\n",
    "end"
   ]
  },
  {
   "cell_type": "code",
   "execution_count": 52,
   "metadata": {},
   "outputs": [],
   "source": [
    "struct Method{OT} <: Operator\n",
    "    f::OT\n",
    "end\n",
    "\n",
    "struct Broadcasted{OT} <: Operator\n",
    "    f::OT\n",
    "end"
   ]
  },
  {
   "cell_type": "code",
   "execution_count": 53,
   "metadata": {},
   "outputs": [
    {
     "data": {
      "text/plain": [
       "ComputableNode"
      ]
     },
     "execution_count": 53,
     "metadata": {},
     "output_type": "execute_result"
    }
   ],
   "source": [
    "struct ComputableNode{OT <: Operator, AT <: Tuple, KT <: NamedTuple} <: Node\n",
    "    op::OT\n",
    "    args::AT\n",
    "    kwargs::KT\n",
    "end\n",
    "ComputableNode(op::Function, args, kwargs) = ComputableNode(Method(op), args, kwargs)\n",
    "ComputableNode(op, args)                   = ComputableNode(op, args, NamedTuple())"
   ]
  },
  {
   "cell_type": "code",
   "execution_count": 54,
   "metadata": {},
   "outputs": [
    {
     "data": {
      "text/plain": [
       "CachedNode"
      ]
     },
     "execution_count": 54,
     "metadata": {},
     "output_type": "execute_result"
    }
   ],
   "source": [
    "mutable struct CachedNode{NT <: Node, OUT} <: Node\n",
    "    node::NT\n",
    "    out::OUT\n",
    "end\n",
    "\n",
    "function CachedNode(op, args...; kwargs...)\n",
    "    node = ComputableNode(op, args, kwargs.data)\n",
    "    out  = forward(node)\n",
    "    CachedNode(node, out)\n",
    "end"
   ]
  },
  {
   "cell_type": "code",
   "execution_count": 55,
   "metadata": {},
   "outputs": [
    {
     "data": {
      "text/plain": [
       "operator (generic function with 2 methods)"
      ]
     },
     "execution_count": 55,
     "metadata": {},
     "output_type": "execute_result"
    }
   ],
   "source": [
    "arg(x::ComputableNode, i::Int) = x.args[i]\n",
    "args(x::ComputableNode) = x.args\n",
    "kwargs(x::ComputableNode) = x.kwargs\n",
    "operator(x::ComputableNode) = x.f\n",
    "\n",
    "arg(x::CachedNode, i::Int) = x.node.args[i]\n",
    "args(x::CachedNode) = x.node.args\n",
    "kwargs(x::CachedNode) = x.node.kwargs\n",
    "operator(x::CachedNode) = x.node.f"
   ]
  },
  {
   "cell_type": "code",
   "execution_count": 56,
   "metadata": {},
   "outputs": [],
   "source": [
    "import Base: show\n",
    "show(io::IO, x::Method)         = print(io, \"fn \",  x.f);\n",
    "show(io::IO, x::Operator)       = print(io, \"op \",  x.f);\n",
    "show(io::IO, x::Variable)       = print(io, \"var \", x.value);\n",
    "show(io::IO, x::CachedNode)     = print(io, \"{cached (\", x.node, \") => \", x.out, \"}\");\n",
    "show(io::IO, x::ComputableNode) = print(io, \"[\", x.op, \"](\", x.args, \")\");"
   ]
  },
  {
   "cell_type": "code",
   "execution_count": 57,
   "metadata": {},
   "outputs": [
    {
     "data": {
      "text/plain": [
       "forward (generic function with 7 methods)"
      ]
     },
     "execution_count": 57,
     "metadata": {},
     "output_type": "execute_result"
    }
   ],
   "source": [
    "forward(x) = x\n",
    "forward(leaf::LeafNode) = value(leaf)\n",
    "forward(node::ComputableNode) = forward(node.op, map(forward, node.args)...; map(forward, node.kwargs)...)\n",
    "forward(cached::CachedNode) = (cached.out = forward(cached.node))\n",
    "forward(op::Broadcasted, args...) = Broadcast.broadcasted(op.f, args...)\n",
    "forward(op::Operator, args...; kwargs...) = op.f(args...; kwargs...)\n",
    "forward(x::NT) where {NT <: Node} = error(\"forward method is not implemented for node type: $NT\")"
   ]
  },
  {
   "cell_type": "code",
   "execution_count": 58,
   "metadata": {},
   "outputs": [
    {
     "data": {
      "text/plain": [
       "value (generic function with 5 methods)"
      ]
     },
     "execution_count": 58,
     "metadata": {},
     "output_type": "execute_result"
    }
   ],
   "source": [
    "value(x) = x\n",
    "value(x::Variable) = x.value\n",
    "value(x::CachedNode) = value(x.out)\n",
    "value(x::T) where {T <: Node} = error(\"Expected value in this node $x of type $T\n",
    " check if you defined a non-cached node\n",
    " or overload value function for your node.\")"
   ]
  },
  {
   "cell_type": "code",
   "execution_count": 59,
   "metadata": {},
   "outputs": [
    {
     "data": {
      "text/plain": [
       "backward (generic function with 7 methods)"
      ]
     },
     "execution_count": 59,
     "metadata": {},
     "output_type": "execute_result"
    }
   ],
   "source": [
    "function backward(x::Variable, grad)\n",
    "    if isdefined(x, :grad)\n",
    "        x.grad+= grad\n",
    "    else\n",
    "        x.grad = grad\n",
    "    end\n",
    "    nothing\n",
    "end\n",
    "\n",
    "function backward(node::CachedNode, f, grad)\n",
    "    grad_inputs = gradient(node, grad)\n",
    "    for (each, each_grad) in zip(args(node), grad_inputs)\n",
    "        backward(each, each_grad)\n",
    "    end\n",
    "    nothing\n",
    "end\n",
    "\n",
    "function backward(cached::CachedNode, op::Broadcasted, grad)\n",
    "    grad_inputs = gradient(cached, grad)\n",
    "    for (each, each_grad) in zip(args(cached), grad_inputs)\n",
    "        backward(each, each_grad)\n",
    "    end\n",
    "    nothing\n",
    "end\n",
    "\n",
    "backward(cached::CachedNode) = backward(cached, 1.0)\n",
    "backward(cached::CachedNode, grad) = backward(cached, cached.node.op, grad)\n",
    "backward(cached::CachedNode, op::Method, grad) = backward(cached, op.f, grad)\n",
    "backward(cached::CachedNode, ::typeof(Broadcast.materialize), grad) = backward(arg(cached, 1), grad)"
   ]
  },
  {
   "cell_type": "code",
   "execution_count": 60,
   "metadata": {},
   "outputs": [
    {
     "data": {
      "text/plain": [
       "gradient (generic function with 27 methods)"
      ]
     },
     "execution_count": 60,
     "metadata": {},
     "output_type": "execute_result"
    }
   ],
   "source": [
    "gradient(x::CachedNode, grad) = gradient(x.node.op, grad, x.out, map(value, x.node.args)...; map(value, x.node.kwargs)...)\n",
    "gradient(x::Operator,   grad, out, args...; kwargs...) = gradient(x.f, grad, out, args...; kwargs...)\n",
    "gradient(op, grad, out, args...; kwargs...) = error(\"gradient of operator $op is not defined\\n\n",
    " Possible Fix:\\n\n",
    " define one of the following:\\n\n",
    " 1. gradient(::typeof($op), grad, out, args...; kwargs...)\\n\n",
    " 2. gradient(op::Method{typeof($op)}, grad, out, args...; kwargs...)\\n\n",
    " 3. gradient(op::Broadcasted{typeof($op)}, grad, out, args...; kwargs...)\\n\")"
   ]
  },
  {
   "cell_type": "code",
   "execution_count": 61,
   "metadata": {},
   "outputs": [
    {
     "data": {
      "text/plain": [
       "gradient (generic function with 27 methods)"
      ]
     },
     "execution_count": 61,
     "metadata": {},
     "output_type": "execute_result"
    }
   ],
   "source": [
    "import Base: +, -, *, /\n",
    "+(x::Node) = CachedNode(+, x)\n",
    "-(x::Node) = CachedNode(-, x)\n",
    "gradient(::typeof(+), grad, output, x) = (grad * 1, )\n",
    "gradient(::typeof(-), grad, output, x) = (grad *-1, )\n",
    "+(x::Node, y::Node) = CachedNode(+, x, y)\n",
    "-(x::Node, y::Node) = CachedNode(-, x, y)\n",
    "*(x::Node, y::Node) = CachedNode(*, x, y)\n",
    "/(x::Node, y::Node) = CachedNode(/, x, y)\n",
    "gradient(::typeof(+), grad, output, x, y) = (grad * one(x),   grad * one(y))\n",
    "gradient(::typeof(-), grad, output, x, y) = (grad * one(x),   grad *-one(y))\n",
    "gradient(::typeof(*), grad, output, x, y) = (grad * y,        grad * x)\n",
    "gradient(::typeof(/), grad, output, x, y) = (grad * one(x)/y, grad *-x/y/y)"
   ]
  },
  {
   "cell_type": "code",
   "execution_count": 62,
   "metadata": {},
   "outputs": [
    {
     "name": "stderr",
     "output_type": "stream",
     "text": [
      "WARNING: import of Base.isless into Main conflicts with an existing identifier; ignored.\n"
     ]
    },
    {
     "data": {
      "text/plain": [
       "gradient (generic function with 27 methods)"
      ]
     },
     "execution_count": 62,
     "metadata": {},
     "output_type": "execute_result"
    }
   ],
   "source": [
    "import Base: abs, sin, cos, tan, exp, sqrt, isless\n",
    "abs(x::Node)  = CachedNode(abs, x)\n",
    "sin(x::Node)  = CachedNode(sin, x)\n",
    "cos(x::Node)  = CachedNode(cos, x)\n",
    "tan(x::Node)  = CachedNode(tan, x)\n",
    "exp(x::Node)  = CachedNode(exp, x)\n",
    "sqrt(x::Node) = CachedNode(sqrt, x)\n",
    "isless(x::Node, y::Node) = isless(value(x), value(y))\n",
    "gradient(::typeof(abs), grad, output, x)  = (grad * sign(x), )\n",
    "gradient(::typeof(sin), grad, output, x)  = (grad * cos(x), )\n",
    "gradient(::typeof(cos), grad, output, x)  = (grad *-sin(x), )\n",
    "gradient(::typeof(tan), grad, output, x)  = (grad *(tan(x)^2 + 1), )\n",
    "gradient(::typeof(exp), grad, output, x)  = (grad * exp(x), )\n",
    "gradient(::typeof(sqrt), grad, output, x) = (grad * 0.5/sqrt(x), )"
   ]
  },
  {
   "cell_type": "code",
   "execution_count": 63,
   "metadata": {},
   "outputs": [
    {
     "data": {
      "text/plain": [
       "promote_rule (generic function with 126 methods)"
      ]
     },
     "execution_count": 63,
     "metadata": {},
     "output_type": "execute_result"
    }
   ],
   "source": [
    "import Base: convert, promote_rule\n",
    "convert(::Type{Variable{T}}, x::Number) where T   = Variable(convert(T, x))\n",
    "convert(::Type{Variable{T}}, x::Variable) where T = Variable(convert(T, x.value), convert(T, x.grad))\n",
    "promote_rule(::Type{Variable{T}}, ::Type{R}) where {T,R} = Variable{promote_type(R,T)}"
   ]
  },
  {
   "cell_type": "code",
   "execution_count": 64,
   "metadata": {},
   "outputs": [],
   "source": [
    "struct ComputGraphStyle <: Broadcast.BroadcastStyle end\n",
    "Base.BroadcastStyle(::Type{<:Node}) = ComputGraphStyle()\n",
    "Broadcast.BroadcastStyle(s::ComputGraphStyle, x::Broadcast.BroadcastStyle) = s\n",
    "Broadcast.broadcasted(::ComputGraphStyle, f, args...) = CachedNode(Broadcasted(f), args...)\n",
    "Broadcast.broadcastable(x::Node) = x\n",
    "Broadcast.materialize(x::Node) = CachedNode(Broadcast.materialize, x)\n",
    "Base.similar(x::Node)                                      = Variable(similar(value(x)))\n",
    "Base.similar(x::Node, dims::Dims)                          = Variable(similar(value(x), dims))\n",
    "Base.similar(x::Node, eltype::Type{S}, dims::Dims) where S = Variable(similar(value(x), eltype, dims))"
   ]
  },
  {
   "cell_type": "code",
   "execution_count": 65,
   "metadata": {},
   "outputs": [
    {
     "data": {
      "text/plain": [
       "gradient (generic function with 27 methods)"
      ]
     },
     "execution_count": 65,
     "metadata": {},
     "output_type": "execute_result"
    }
   ],
   "source": [
    "gradient(::Broadcasted{typeof(+)}, grad, output, x)    = @. (grad * 1, )\n",
    "gradient(::Broadcasted{typeof(-)}, grad, output, x)    = @. (grad *-1, )\n",
    "gradient(::Broadcasted{typeof(+)}, grad, output, x, y) = @. (grad * one(x),   grad * one(y))\n",
    "gradient(::Broadcasted{typeof(-)}, grad, output, x, y) = @. (grad * one(x),   grad *-one(y))\n",
    "gradient(::Broadcasted{typeof(*)}, grad, output, x, y) = @. (grad * y,        grad * x)\n",
    "gradient(::Broadcasted{typeof(/)}, grad, output, x, y) = @. (grad * one(x)/y, grad *-x/y/y)\n",
    "gradient(::Broadcasted{typeof(abs)}, grad, output, x)  = @. (grad * sign(x), )\n",
    "gradient(::Broadcasted{typeof(sin)}, grad, output, x)  = @. (grad *  cos(x),  )\n",
    "gradient(::Broadcasted{typeof(cos)}, grad, output, x)  = @. (grad * -sin(x), )\n",
    "gradient(::Broadcasted{typeof(tan)}, grad, output, x)  = @. (grad * (tan(x)^2 + 1), )\n",
    "gradient(::Broadcasted{typeof(exp)}, grad, output, x)  = @. (grad *  exp(x), )\n",
    "gradient(::Broadcasted{typeof(sqrt)}, grad, output, x) = @. (grad *.5/sqrt(x), )"
   ]
  },
  {
   "cell_type": "code",
   "execution_count": 66,
   "metadata": {},
   "outputs": [
    {
     "data": {
      "text/plain": [
       "1.6323282472535678"
      ]
     },
     "execution_count": 66,
     "metadata": {},
     "output_type": "execute_result"
    }
   ],
   "source": [
    "x = Variable(5.0)\n",
    "y = Variable(4.0)\n",
    "z = sin(y*x)\n",
    "backward(z)\n",
    "x.grad\n"
   ]
  },
  {
   "cell_type": "code",
   "execution_count": 67,
   "metadata": {},
   "outputs": [
    {
     "data": {
      "text/plain": [
       "(0.9129452507276277) + [2.0404103090669596ε]"
      ]
     },
     "execution_count": 67,
     "metadata": {},
     "output_type": "execute_result"
    }
   ],
   "source": [
    "c = Dual(4,1)\n",
    "y = Dual(5,0)\n",
    "u =sin( c * y)"
   ]
  },
  {
   "cell_type": "code",
   "execution_count": 187,
   "metadata": {},
   "outputs": [
    {
     "data": {
      "text/plain": [
       "jacobian_reverse (generic function with 1 method)"
      ]
     },
     "execution_count": 187,
     "metadata": {},
     "output_type": "execute_result"
    }
   ],
   "source": [
    "J_reverse = function jacobian_reverse(f, args::Vector{T}) where {T <:Number} \n",
    "    jacobian_columns = Matrix{T}[]\n",
    "        variables =[]\n",
    "        for arg = 1:length(args)\n",
    "            var = Variable(args[arg])\n",
    "            push!(variables, var)\n",
    "        end    \n",
    "        backward(f(variables))\n",
    "        for i=1:length(variables)\n",
    "            grad = Float64[]\n",
    "            x = variables[i]\n",
    "            push!(grad,x.grad)\n",
    "            column = grad\n",
    "            push!(jacobian_columns, column[:,:])\n",
    "        end\n",
    "        hcat(jacobian_columns...)\n",
    "    end"
   ]
  },
  {
   "cell_type": "code",
   "execution_count": 188,
   "metadata": {},
   "outputs": [
    {
     "data": {
      "text/plain": [
       "foo (generic function with 1 method)"
      ]
     },
     "execution_count": 188,
     "metadata": {},
     "output_type": "execute_result"
    }
   ],
   "source": [
    "foo(x::Vector) = sin(x[1]*x[2])"
   ]
  },
  {
   "cell_type": "code",
   "execution_count": 191,
   "metadata": {},
   "outputs": [
    {
     "data": {
      "text/plain": [
       "1×2 Matrix{Float64}:\n",
       " 1.63233  2.04041"
      ]
     },
     "execution_count": 191,
     "metadata": {},
     "output_type": "execute_result"
    }
   ],
   "source": [
    "jacobian_reverse(foo,[5.0,4.0])"
   ]
  },
  {
   "cell_type": "code",
   "execution_count": 168,
   "metadata": {},
   "outputs": [
    {
     "data": {
      "text/plain": [
       "1×2 Matrix{Float64}:\n",
       " 1.63233  2.04041"
      ]
     },
     "execution_count": 168,
     "metadata": {},
     "output_type": "execute_result"
    }
   ],
   "source": [
    "jacobian_forward(foo, [5.0,4.0])"
   ]
  },
  {
   "cell_type": "code",
   "execution_count": null,
   "metadata": {},
   "outputs": [],
   "source": []
  }
 ],
 "metadata": {
  "kernelspec": {
   "display_name": "Julia 1.6.1",
   "language": "julia",
   "name": "julia-1.6"
  },
  "language_info": {
   "file_extension": ".jl",
   "mimetype": "application/julia",
   "name": "julia",
   "version": "1.6.1"
  }
 },
 "nbformat": 4,
 "nbformat_minor": 4
}
